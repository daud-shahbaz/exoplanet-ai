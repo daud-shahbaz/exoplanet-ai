{
 "cells": [
  {
   "cell_type": "code",
   "execution_count": 2,
   "id": "94ecbecc",
   "metadata": {},
   "outputs": [
    {
     "data": {
      "text/plain": [
       "0         CONFIRMED\n",
       "1         CANDIDATE\n",
       "2    FALSE_POSITIVE\n",
       "3         CONFIRMED\n",
       "4         CONFIRMED\n",
       "Name: label, dtype: object"
      ]
     },
     "execution_count": 2,
     "metadata": {},
     "output_type": "execute_result"
    }
   ],
   "source": [
    "import pandas as pd\n",
    "df = pd.read_csv(\"all_missions_standardized.csv\")\n",
    "\n",
    "tf = df[\"label\"]\n",
    "\n",
    "\n",
    "df = df.fillna(0)\n",
    "\n",
    "df.drop([\"star_id\", \"mission\",\"label\"], axis=1, inplace=True)\n",
    "\n",
    "tf.head()"
   ]
  },
  {
   "cell_type": "code",
   "execution_count": null,
   "id": "398748b2",
   "metadata": {},
   "outputs": [
    {
     "name": "stdout",
     "output_type": "stream",
     "text": [
      "[LightGBM] [Info] Auto-choosing col-wise multi-threading, the overhead of testing was 0.000770 seconds.\n",
      "You can set `force_col_wise=true` to remove the overhead.\n",
      "[LightGBM] [Info] Total Bins 2295\n",
      "[LightGBM] [Info] Number of data points in the train set: 12886, number of used features: 9\n",
      "[LightGBM] [Info] Start training from score -0.829098\n",
      "[LightGBM] [Info] Start training from score -1.608352\n",
      "[LightGBM] [Info] Start training from score -1.012416\n",
      "0.715316573556797\n"
     ]
    }
   ],
   "source": [
    "#Scaling the training data to a range of 0 to 1\n",
    "from sklearn.preprocessing import MinMaxScaler,LabelEncoder\n",
    "scaler = MinMaxScaler(feature_range=(0, 1))\n",
    "scaler.fit_transform(df)\n",
    "\n",
    "le = LabelEncoder()\n",
    "y = le.fit_transform(tf)\n",
    "\n",
    "\n",
    "#Splitting the data into a train section and test section\n",
    "from sklearn.model_selection import train_test_split\n",
    "Train_X, Test_X, Train_Y, Test_Y = train_test_split(df, y)\n",
    "\n",
    "from catboost import CatBoostClassifier\n",
    "\n",
    "model = CatBoostClassifier(\n",
    "    loss_function=\"MultiClass\",\n",
    "    iterations=1500,\n",
    "    depth=8,\n",
    "    learning_rate=0.05,\n",
    "    random_seed=42,\n",
    "    verbose=False\n",
    ")\n",
    "\n",
    "\n",
    "\"\"\"\"\n",
    "from lightgbm import LGBMClassifier\n",
    "\n",
    "model = LGBMClassifier(\n",
    "    objective=\"multiclass\",\n",
    "    num_class=3,\n",
    "    n_estimators=800,\n",
    "    learning_rate=0.05,\n",
    "    subsample=0.9,\n",
    "    colsample_bytree=0.9,\n",
    "    random_state=42,\n",
    "    n_jobs=-1\n",
    ")\n",
    "\n",
    "\n",
    "\n",
    "from xgboost import XGBClassifier\n",
    "\n",
    "model = XGBClassifier(\n",
    "    objective=\"multi:softprob\",\n",
    "    num_class=3,\n",
    "    eval_metric=\"mlogloss\",\n",
    "    tree_method=\"hist\",     \n",
    "    n_estimators=700,\n",
    "    learning_rate=0.05,\n",
    "    max_depth=6,\n",
    "    subsample=0.9,\n",
    "    colsample_bytree=0.9,\n",
    "    random_state=42,\n",
    "    n_jobs=-1\n",
    ")\n",
    "\"\"\"\n",
    "model.fit(Train_X,Train_Y)\n",
    "Pred_Y = model.predict(Test_X)\n",
    "\n",
    "\n",
    "\n",
    "from sklearn.metrics import accuracy_score\n",
    "print(accuracy_score(Pred_Y,Test_Y))"
   ]
  },
  {
   "cell_type": "code",
   "execution_count": 6,
   "id": "8002a146",
   "metadata": {},
   "outputs": [],
   "source": [
    "import pickle\n",
    "\n",
    "with open('LGBM.pkl','wb') as file: \n",
    "    pickle.dump(model, file)\n",
    "\n",
    "with open('LGBM_scaler.pkl','wb') as file: \n",
    "    pickle.dump(scaler, file)\n"
   ]
  }
 ],
 "metadata": {
  "kernelspec": {
   "display_name": ".venv",
   "language": "python",
   "name": "python3"
  },
  "language_info": {
   "codemirror_mode": {
    "name": "ipython",
    "version": 3
   },
   "file_extension": ".py",
   "mimetype": "text/x-python",
   "name": "python",
   "nbconvert_exporter": "python",
   "pygments_lexer": "ipython3",
   "version": "3.11.4"
  }
 },
 "nbformat": 4,
 "nbformat_minor": 5
}
